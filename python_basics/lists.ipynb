{
 "cells": [
  {
   "cell_type": "code",
   "execution_count": 1,
   "id": "37899615",
   "metadata": {},
   "outputs": [],
   "source": [
    "##lists are mutable ---can be changed "
   ]
  },
  {
   "cell_type": "code",
   "execution_count": 2,
   "id": "05875305",
   "metadata": {},
   "outputs": [
    {
     "name": "stdout",
     "output_type": "stream",
     "text": [
      "<class 'list'>\n"
     ]
    }
   ],
   "source": [
    "lst = []\n",
    "\n",
    "print(type(lst))"
   ]
  },
  {
   "cell_type": "code",
   "execution_count": 4,
   "id": "d36252fc",
   "metadata": {},
   "outputs": [
    {
     "name": "stdout",
     "output_type": "stream",
     "text": [
      "The names are: ['Kinnari', 'Aditi', 'Mrunmayee']\n"
     ]
    }
   ],
   "source": [
    "names=[\"Kinnari\",\"Aditi\",\"Mrunmayee\"]\n",
    "print(\"The names are:\", names)"
   ]
  },
  {
   "cell_type": "code",
   "execution_count": 5,
   "id": "10ee56dd",
   "metadata": {},
   "outputs": [
    {
     "data": {
      "text/plain": [
       "'apple'"
      ]
     },
     "execution_count": 5,
     "metadata": {},
     "output_type": "execute_result"
    }
   ],
   "source": [
    "### accessing list of elements \n",
    "\n",
    "fruits = [\"apple\",\"banana\",\"mango\",\"kiwi\",\"grapes\"]\n",
    "\n",
    "fruits[0]"
   ]
  },
  {
   "cell_type": "code",
   "execution_count": 6,
   "id": "f37f291d",
   "metadata": {},
   "outputs": [
    {
     "name": "stdout",
     "output_type": "stream",
     "text": [
      "apple\n",
      "mango\n"
     ]
    }
   ],
   "source": [
    "print(fruits[0])\n",
    "print(fruits[2])\n"
   ]
  },
  {
   "cell_type": "code",
   "execution_count": 8,
   "id": "a3e5b6c6",
   "metadata": {},
   "outputs": [
    {
     "name": "stdout",
     "output_type": "stream",
     "text": [
      "['apple', 'banana']\n",
      "['apple', 'banana', 'mango', 'kiwi']\n"
     ]
    }
   ],
   "source": [
    "print(fruits[0:2])\n",
    "print(fruits[:-1])"
   ]
  },
  {
   "cell_type": "code",
   "execution_count": 9,
   "id": "6e8bdc64",
   "metadata": {},
   "outputs": [
    {
     "name": "stdout",
     "output_type": "stream",
     "text": [
      "['watermelon', 'banana', 'mango', 'kiwi', 'grapes']\n"
     ]
    }
   ],
   "source": [
    "##modifying the list\n",
    "\n",
    "fruits[0] = 'watermelon'\n",
    "print(fruits)"
   ]
  },
  {
   "cell_type": "code",
   "execution_count": 10,
   "id": "8cc4530c",
   "metadata": {},
   "outputs": [
    {
     "name": "stdout",
     "output_type": "stream",
     "text": [
      "['watermelon', 'banana', 'mango', 'kiwi', 'grapes', 'orange']\n"
     ]
    }
   ],
   "source": [
    "##list methods \n",
    "\n",
    "fruits.append(\"orange\") #add an item at the end\n",
    "print(fruits)"
   ]
  },
  {
   "cell_type": "code",
   "execution_count": 11,
   "id": "19f0df94",
   "metadata": {},
   "outputs": [],
   "source": [
    "fruits.insert(1,\"gauva\")"
   ]
  },
  {
   "cell_type": "code",
   "execution_count": null,
   "id": "3397d4ac",
   "metadata": {},
   "outputs": [
    {
     "name": "stdout",
     "output_type": "stream",
     "text": [
      "['gauva', 'banana', 'mango', 'kiwi', 'grapes', 'orange']\n"
     ]
    }
   ],
   "source": [
    "fruits.remove(\"watermelon\") #removes first occurence of an item\n",
    "print(fruits)"
   ]
  },
  {
   "cell_type": "code",
   "execution_count": 14,
   "id": "0fe10405",
   "metadata": {},
   "outputs": [
    {
     "name": "stdout",
     "output_type": "stream",
     "text": [
      "grapes\n",
      "['gauva', 'banana', 'mango', 'kiwi']\n"
     ]
    }
   ],
   "source": [
    "popped_fruits = fruits.pop()\n",
    "print(popped_fruits)  # Output: Apple\n",
    "print(fruits)"
   ]
  },
  {
   "cell_type": "code",
   "execution_count": 17,
   "id": "654ee154",
   "metadata": {},
   "outputs": [
    {
     "name": "stdout",
     "output_type": "stream",
     "text": [
      "2\n"
     ]
    }
   ],
   "source": [
    "index = fruits.index(\"mango\")\n",
    "print(index)  # Output: 1"
   ]
  },
  {
   "cell_type": "code",
   "execution_count": 19,
   "id": "83e33787",
   "metadata": {},
   "outputs": [
    {
     "name": "stdout",
     "output_type": "stream",
     "text": [
      "['banana', 'gauva', 'kiwi', 'mango']\n"
     ]
    }
   ],
   "source": [
    "fruits.sort()  #in ascending order\n",
    "print(fruits)"
   ]
  },
  {
   "cell_type": "code",
   "execution_count": 20,
   "id": "ba0f3c1c",
   "metadata": {},
   "outputs": [],
   "source": [
    "fruits.clear()\n",
    "\n",
    "##removes all items in a list"
   ]
  },
  {
   "cell_type": "code",
   "execution_count": 22,
   "id": "98815214",
   "metadata": {},
   "outputs": [
    {
     "name": "stdout",
     "output_type": "stream",
     "text": [
      "[3, 4, 5]\n",
      "[1, 2, 3, 4, 5]\n",
      "[3, 4, 5, 6, 7, 8, 9, 10]\n",
      "[1, 3, 5, 7, 9]\n",
      "[10, 9, 8, 7, 6, 5, 4, 3, 2, 1]\n"
     ]
    }
   ],
   "source": [
    "##slicing list\n",
    "\n",
    "num = [1,2,3,4,5,6,7,8,9,10]\n",
    "\n",
    "print(num[2:5])\n",
    "print(num[:5])\n",
    "print(num[2:])\n",
    "print(num[::2])\n",
    "print(num[::-1])"
   ]
  },
  {
   "cell_type": "code",
   "execution_count": 23,
   "id": "48e7ebe1",
   "metadata": {},
   "outputs": [
    {
     "data": {
      "text/plain": [
       "[10, 8, 6, 4, 2]"
      ]
     },
     "execution_count": 23,
     "metadata": {},
     "output_type": "execute_result"
    }
   ],
   "source": [
    "num[::-2]"
   ]
  },
  {
   "cell_type": "code",
   "execution_count": 25,
   "id": "9541c8f2",
   "metadata": {},
   "outputs": [
    {
     "name": "stdout",
     "output_type": "stream",
     "text": [
      "1\n",
      "2\n",
      "3\n",
      "4\n",
      "5\n",
      "6\n",
      "7\n",
      "8\n",
      "9\n",
      "10\n"
     ]
    }
   ],
   "source": [
    "##iterating over list\n",
    "\n",
    "for num1 in num:\n",
    "    print(num1)"
   ]
  },
  {
   "cell_type": "code",
   "execution_count": 26,
   "id": "ac53396f",
   "metadata": {},
   "outputs": [
    {
     "name": "stdout",
     "output_type": "stream",
     "text": [
      "Index: 0, Number: 1\n",
      "Index: 1, Number: 2\n",
      "Index: 2, Number: 3\n",
      "Index: 3, Number: 4\n",
      "Index: 4, Number: 5\n",
      "Index: 5, Number: 6\n",
      "Index: 6, Number: 7\n",
      "Index: 7, Number: 8\n",
      "Index: 8, Number: 9\n",
      "Index: 9, Number: 10\n"
     ]
    }
   ],
   "source": [
    "##iterating list with index\n",
    "\n",
    "for index, number in enumerate(num):\n",
    "    print(f\"Index: {index}, Number: {number}\")"
   ]
  },
  {
   "cell_type": "code",
   "execution_count": 27,
   "id": "cef253e6",
   "metadata": {},
   "outputs": [
    {
     "name": "stdout",
     "output_type": "stream",
     "text": [
      "[0, 1, 4, 9, 16, 25, 36, 49, 64, 81]\n"
     ]
    }
   ],
   "source": [
    "## list comprehension\n",
    "\n",
    "lst=[]\n",
    "for x in range(10):\n",
    "    lst.append(x**2)\n",
    "\n",
    "print(lst)\n"
   ]
  },
  {
   "cell_type": "code",
   "execution_count": 29,
   "id": "0a6189cd",
   "metadata": {},
   "outputs": [
    {
     "data": {
      "text/plain": [
       "[0, 1, 4, 9, 16, 25, 36, 49, 64, 81]"
      ]
     },
     "execution_count": 29,
     "metadata": {},
     "output_type": "execute_result"
    }
   ],
   "source": [
    "[x**2 for x in range(10) ] ##So list comprehension basically has two important things what we want as an output and what is the kind of operation we are performing\n",
    "\n",
    "\n"
   ]
  },
  {
   "cell_type": "markdown",
   "id": "68a891bc",
   "metadata": {},
   "source": [
    "####syntax for list comprehension\n",
    "\n",
    "Basic syntax -------> [expression for item in iterable]\n",
    "\n",
    "With conditional logic ------------> [expression for item in iterable if condition]"
   ]
  },
  {
   "cell_type": "code",
   "execution_count": 32,
   "id": "4b2ff65a",
   "metadata": {},
   "outputs": [],
   "source": [
    "sqr = [num**2 for num in range(20)]"
   ]
  },
  {
   "cell_type": "code",
   "execution_count": 33,
   "id": "1bd73db8",
   "metadata": {},
   "outputs": [
    {
     "name": "stdout",
     "output_type": "stream",
     "text": [
      "[0, 1, 4, 9, 16, 25, 36, 49, 64, 81, 100, 121, 144, 169, 196, 225, 256, 289, 324, 361]\n"
     ]
    }
   ],
   "source": [
    "print(sqr)"
   ]
  },
  {
   "cell_type": "code",
   "execution_count": 36,
   "id": "6895ce2c",
   "metadata": {},
   "outputs": [
    {
     "name": "stdout",
     "output_type": "stream",
     "text": [
      "[0, 2, 4, 6, 8]\n"
     ]
    }
   ],
   "source": [
    "lst = []\n",
    "\n",
    "for i in range(10):\n",
    "    if i%2==0:\n",
    "        lst.append(i)\n",
    "\n",
    "print(lst)"
   ]
  },
  {
   "cell_type": "code",
   "execution_count": 37,
   "id": "3c8bf7e4",
   "metadata": {},
   "outputs": [
    {
     "data": {
      "text/plain": [
       "[0, 2, 4, 6, 8]"
      ]
     },
     "execution_count": 37,
     "metadata": {},
     "output_type": "execute_result"
    }
   ],
   "source": [
    "[num for num in range(10) if num%2==0]"
   ]
  },
  {
   "cell_type": "code",
   "execution_count": 39,
   "id": "1938b19e",
   "metadata": {},
   "outputs": [],
   "source": [
    "#Nested list comprehension\n",
    "\n",
    "###[expression for item1 in iterable1 for item2 in iterable2]"
   ]
  },
  {
   "cell_type": "code",
   "execution_count": 41,
   "id": "a8e26b8e",
   "metadata": {},
   "outputs": [
    {
     "name": "stdout",
     "output_type": "stream",
     "text": [
      "[[1, 'a'], [1, 'b'], [1, 'c'], [1, 'd'], [2, 'a'], [2, 'b'], [2, 'c'], [2, 'd'], [3, 'a'], [3, 'b'], [3, 'c'], [3, 'd'], [4, 'a'], [4, 'b'], [4, 'c'], [4, 'd']]\n"
     ]
    }
   ],
   "source": [
    "lst1 = [1,2,3,4]\n",
    "lst2 = ['a','b','c','d']\n",
    "\n",
    "pair = [[i,j] for i in lst1 for j in lst2]\n",
    "\n",
    "print(pair)"
   ]
  },
  {
   "cell_type": "code",
   "execution_count": 42,
   "id": "5a82df3a",
   "metadata": {},
   "outputs": [
    {
     "name": "stdout",
     "output_type": "stream",
     "text": [
      "[6, 11, 9, 10]\n"
     ]
    }
   ],
   "source": [
    "words = [\"galaxy\",\"neutronstar\",\"blackhole\",\"supernovae\"]\n",
    "lengths = [len(word) for word in words]\n",
    "print(lengths)"
   ]
  },
  {
   "cell_type": "code",
   "execution_count": null,
   "id": "ab5479f9",
   "metadata": {},
   "outputs": [],
   "source": []
  }
 ],
 "metadata": {
  "kernelspec": {
   "display_name": "Python 3",
   "language": "python",
   "name": "python3"
  },
  "language_info": {
   "codemirror_mode": {
    "name": "ipython",
    "version": 3
   },
   "file_extension": ".py",
   "mimetype": "text/x-python",
   "name": "python",
   "nbconvert_exporter": "python",
   "pygments_lexer": "ipython3",
   "version": "3.12.0"
  }
 },
 "nbformat": 4,
 "nbformat_minor": 5
}
