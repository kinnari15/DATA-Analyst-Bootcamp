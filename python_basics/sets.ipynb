{
 "cells": [
  {
   "cell_type": "code",
   "execution_count": 1,
   "id": "22a1ed24",
   "metadata": {},
   "outputs": [
    {
     "name": "stdout",
     "output_type": "stream",
     "text": [
      "{1, 2, 3, 4, 5}\n",
      "<class 'set'>\n"
     ]
    }
   ],
   "source": [
    "## create a set\n",
    "\n",
    "my_set = {1,2,3,4,5}\n",
    "print(my_set)  # Output: {1, 2, 3, 4,\n",
    "print(type(my_set))"
   ]
  },
  {
   "cell_type": "code",
   "execution_count": 3,
   "id": "6fadb505",
   "metadata": {},
   "outputs": [
    {
     "name": "stdout",
     "output_type": "stream",
     "text": [
      "{1, 2, 3, 4, 5, 6}\n"
     ]
    }
   ],
   "source": [
    "my_empty_set = set([1,2,3,4,5,6])\n",
    "print(my_empty_set)  # Output: set()"
   ]
  },
  {
   "cell_type": "code",
   "execution_count": 4,
   "id": "2842c7f3",
   "metadata": {},
   "outputs": [
    {
     "data": {
      "text/plain": [
       "{1, 2, 3, 4, 5}"
      ]
     },
     "execution_count": 4,
     "metadata": {},
     "output_type": "execute_result"
    }
   ],
   "source": [
    "## basic set operations\n",
    "\n",
    "my_set"
   ]
  },
  {
   "cell_type": "code",
   "execution_count": 5,
   "id": "7733b57e",
   "metadata": {},
   "outputs": [
    {
     "name": "stdout",
     "output_type": "stream",
     "text": [
      "{1, 2, 3, 4, 5, 7}\n"
     ]
    }
   ],
   "source": [
    "my_set.add(7)\n",
    "print(my_set)"
   ]
  },
  {
   "cell_type": "code",
   "execution_count": 6,
   "id": "da5a6459",
   "metadata": {},
   "outputs": [
    {
     "name": "stdout",
     "output_type": "stream",
     "text": [
      "{1, 3, 4, 5, 7}\n"
     ]
    }
   ],
   "source": [
    "my_set.remove(2)\n",
    "print(my_set)  # Output: {1, 3, 4}"
   ]
  },
  {
   "cell_type": "code",
   "execution_count": null,
   "id": "0b390a12",
   "metadata": {},
   "outputs": [
    {
     "name": "stdout",
     "output_type": "stream",
     "text": [
      "{1, 3, 4, 5, 7}\n"
     ]
    }
   ],
   "source": [
    "my_set.discard(11) ##removes an element of a set if it is present. If not present, it still works without giving an error\n",
    "print(my_set)  # Output: {1, 2, 3, 4,"
   ]
  },
  {
   "cell_type": "code",
   "execution_count": 8,
   "id": "e47b2d88",
   "metadata": {},
   "outputs": [
    {
     "name": "stdout",
     "output_type": "stream",
     "text": [
      "1\n",
      "{3, 4, 5, 7}\n"
     ]
    }
   ],
   "source": [
    "##pop method \n",
    "\n",
    "removed = my_set.pop()\n",
    "print(removed)  # prints 3\n",
    "print(my_set)  # prints {1, 2, 4}"
   ]
  },
  {
   "cell_type": "code",
   "execution_count": 9,
   "id": "55700cf7",
   "metadata": {},
   "outputs": [],
   "source": [
    "my_set.clear()\n"
   ]
  },
  {
   "cell_type": "code",
   "execution_count": 11,
   "id": "2b375e82",
   "metadata": {},
   "outputs": [
    {
     "name": "stdout",
     "output_type": "stream",
     "text": [
      "True\n",
      "False\n"
     ]
    }
   ],
   "source": [
    "## set membership \n",
    "\n",
    "my_set = {1,2,3,4,5}\n",
    "print(3 in my_set)\n",
    "print(10 in my_set)"
   ]
  },
  {
   "cell_type": "code",
   "execution_count": 13,
   "id": "fd4ac0bd",
   "metadata": {},
   "outputs": [
    {
     "name": "stdout",
     "output_type": "stream",
     "text": [
      "{1, 2, 3, 4, 5, 6, 7, 8, 9}\n",
      "{4, 5, 6}\n"
     ]
    }
   ],
   "source": [
    "## mathematical operations \n",
    "\n",
    "set1 = {1,2,3,4,5,6}\n",
    "set2 = {4,5,6,7,8,9}\n",
    "\n",
    "## union \n",
    "\n",
    "union_set = set1.union(set2)\n",
    "print(union_set)\n",
    "\n",
    "  # Output: {1, 2, 3, 4\n",
    "\n",
    "inter = set1.intersection(set2)\n",
    "print(inter)  # Output: {4, 5, 6}"
   ]
  },
  {
   "cell_type": "code",
   "execution_count": 14,
   "id": "7f55348d",
   "metadata": {},
   "outputs": [
    {
     "name": "stdout",
     "output_type": "stream",
     "text": [
      "{1, 2, 3}\n"
     ]
    }
   ],
   "source": [
    "print(set1.difference(set2))"
   ]
  },
  {
   "cell_type": "code",
   "execution_count": 15,
   "id": "ced92e90",
   "metadata": {},
   "outputs": [
    {
     "data": {
      "text/plain": [
       "{1, 2, 3, 7, 8, 9}"
      ]
     },
     "execution_count": 15,
     "metadata": {},
     "output_type": "execute_result"
    }
   ],
   "source": [
    "## symetric difference \n",
    "\n",
    "set1.symmetric_difference(set2)"
   ]
  },
  {
   "cell_type": "code",
   "execution_count": 18,
   "id": "6e0e971c",
   "metadata": {},
   "outputs": [
    {
     "name": "stdout",
     "output_type": "stream",
     "text": [
      "False\n",
      "True\n"
     ]
    }
   ],
   "source": [
    "## sets methods \n",
    "\n",
    "set1 = {1,2,3,4,5}\n",
    "set2 = {3,4,5}\n",
    "\n",
    "print(set1.issubset(set2))\n",
    "print(set1.issuperset(set2))"
   ]
  },
  {
   "cell_type": "code",
   "execution_count": 19,
   "id": "4169edc6",
   "metadata": {},
   "outputs": [
    {
     "data": {
      "text/plain": [
       "{1, 2, 3, 4, 5, 6}"
      ]
     },
     "execution_count": 19,
     "metadata": {},
     "output_type": "execute_result"
    }
   ],
   "source": [
    "lst = [1,2,2,3,4,5,5,5,6]\n",
    "set(lst)"
   ]
  },
  {
   "cell_type": "code",
   "execution_count": 21,
   "id": "ce648c09",
   "metadata": {},
   "outputs": [
    {
     "name": "stdout",
     "output_type": "stream",
     "text": [
      "{'discussing', 'about', 'sets', 'we', 'tutorial,', 'In', 'are', 'this'}\n",
      "8\n"
     ]
    }
   ],
   "source": [
    "##counting unique words in text\n",
    "\n",
    "text = \"In this tutorial, we are discussing about sets\"\n",
    "words = text.split()\n",
    "\n",
    "#convert list of words to set to get unique words\n",
    "\n",
    "unique = set(words)\n",
    "print(unique)\n",
    "  # Output: {'tutorial', 'we', 'this', 'about', '\n",
    "\n",
    "print(len(unique))"
   ]
  },
  {
   "cell_type": "code",
   "execution_count": null,
   "id": "cf83e357",
   "metadata": {},
   "outputs": [],
   "source": []
  }
 ],
 "metadata": {
  "kernelspec": {
   "display_name": "Python 3",
   "language": "python",
   "name": "python3"
  },
  "language_info": {
   "codemirror_mode": {
    "name": "ipython",
    "version": 3
   },
   "file_extension": ".py",
   "mimetype": "text/x-python",
   "name": "python",
   "nbconvert_exporter": "python",
   "pygments_lexer": "ipython3",
   "version": "3.12.0"
  }
 },
 "nbformat": 4,
 "nbformat_minor": 5
}
