{
 "cells": [
  {
   "cell_type": "markdown",
   "id": "5e7dfe5c",
   "metadata": {},
   "source": [
    "### Variables basially assign values"
   ]
  },
  {
   "cell_type": "code",
   "execution_count": null,
   "id": "56f99566",
   "metadata": {},
   "outputs": [],
   "source": [
    "age = 22\n",
    "height  = 1.56\n",
    "name=\"Kinnari\"\n",
    "is_student=True \n",
    "\n",
    "print(\"age:\", age)\n",
    "print(\"Height:\", height )\n",
    "print(\"Name:\", name)"
   ]
  },
  {
   "cell_type": "code",
   "execution_count": 1,
   "id": "572ed8ff",
   "metadata": {},
   "outputs": [
    {
     "name": "stdout",
     "output_type": "stream",
     "text": [
      "age: 22\n",
      "Height: 1.56\n",
      "Name: Kinnari\n"
     ]
    }
   ],
   "source": [
    "age = 22\n",
    "height =1.56\n",
    "name=\"Kinnari\"\n",
    "is_student=True \n",
    "\n",
    "print(\"age:\", age)\n",
    "print(\"Height:\", height )\n",
    "print(\"Name:\", name)"
   ]
  },
  {
   "cell_type": "code",
   "execution_count": 4,
   "id": "7dee99db",
   "metadata": {},
   "outputs": [],
   "source": [
    "#valid variable names\n",
    "\n",
    "first_name=\"Kinnari\"\n",
    "last_name=\"Bhalerao\"\n",
    "\n",
    "#invalid variables\n",
    "\n",
    "#a-ame=\"Kinnari\""
   ]
  },
  {
   "cell_type": "code",
   "execution_count": 5,
   "id": "6cc12633",
   "metadata": {},
   "outputs": [],
   "source": [
    "#python is dynamically typed. Type of a variables is determined at run time"
   ]
  },
  {
   "cell_type": "code",
   "execution_count": 7,
   "id": "55b68341",
   "metadata": {},
   "outputs": [
    {
     "name": "stdout",
     "output_type": "stream",
     "text": [
      "<class 'int'>\n",
      "22\n",
      "<class 'str'>\n"
     ]
    }
   ],
   "source": [
    "##Type conversion\n",
    "\n",
    "age = 22\n",
    "print(type(age))\n",
    "\n",
    "age_str=str(age)\n",
    "print(age_str)\n",
    "print(type(age_str))"
   ]
  },
  {
   "cell_type": "code",
   "execution_count": 8,
   "id": "5a7df89f",
   "metadata": {},
   "outputs": [
    {
     "data": {
      "text/plain": [
       "50.0"
      ]
     },
     "execution_count": 8,
     "metadata": {},
     "output_type": "execute_result"
    }
   ],
   "source": [
    "height = 50\n",
    "\n",
    "float(height)"
   ]
  },
  {
   "cell_type": "code",
   "execution_count": 9,
   "id": "667ad385",
   "metadata": {},
   "outputs": [
    {
     "name": "stdout",
     "output_type": "stream",
     "text": [
      "10 <class 'int'>\n",
      "Hello <class 'str'>\n",
      "3.14 <class 'float'>\n"
     ]
    }
   ],
   "source": [
    "var = 10\n",
    "print(var,type(var))\n",
    "\n",
    "## python allows type of variable to change when program exeuctes\n",
    "\n",
    "var=\"Hello\"\n",
    "\n",
    "print(var,type(var))\n",
    "\n",
    "var=3.14\n",
    "print(var,type(var))\n",
    "\n"
   ]
  },
  {
   "cell_type": "code",
   "execution_count": null,
   "id": "2df83c56",
   "metadata": {},
   "outputs": [],
   "source": []
  }
 ],
 "metadata": {
  "kernelspec": {
   "display_name": "Python 3",
   "language": "python",
   "name": "python3"
  },
  "language_info": {
   "codemirror_mode": {
    "name": "ipython",
    "version": 3
   },
   "file_extension": ".py",
   "mimetype": "text/x-python",
   "name": "python",
   "nbconvert_exporter": "python",
   "pygments_lexer": "ipython3",
   "version": "3.12.0"
  }
 },
 "nbformat": 4,
 "nbformat_minor": 5
}
